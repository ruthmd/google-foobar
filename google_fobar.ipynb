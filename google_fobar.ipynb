{
 "cells": [
  {
   "cell_type": "markdown",
   "metadata": {
    "colab_type": "text",
    "id": "tkmff5HeSvOx"
   },
   "source": [
    "## Re-ID\n",
    "\n",
    "There's some unrest in the minion ranks: minions with ID numbers like \"1\", \"42\", and other \"good\" numbers have been lording it over the poor minions who are stuck with more boring IDs. To quell the unrest, Commander Lambda has tasked you with reassigning everyone new, random IDs based on her Completely Foolproof Scheme. \n",
    "\n",
    "She's concatenated the prime numbers in a single long string: \"2357111317192329...\". Now every minion must draw a number from a hat. That number is the starting index in that string of primes, and the minion's new ID number will be the next five digits in the string. So if a minion draws \"3\", their ID number will be \"71113\". \n",
    "\n",
    "Help the Commander assign these IDs by writing a function answer(n) which takes in the starting index n of Lambda's string of all primes, and returns the next five digits in the string. Commander Lambda has a lot of minions, so the value of n will always be between 0 and 10000.\n",
    "\n",
    "## Test case\n",
    "\n",
    "Inputs:\n",
    "    (int) n = 0\n",
    "Output:\n",
    "    (string) \"23571\"\n",
    "\n",
    "Inputs:\n",
    "    (int) n = 3\n",
    "Output:\n",
    "    (string) \"71113\"\n",
    "\"\"\""
   ]
  },
  {
   "cell_type": "code",
   "execution_count": 32,
   "metadata": {
    "colab": {},
    "colab_type": "code",
    "id": "w6UUvJaWSiuJ"
   },
   "outputs": [],
   "source": [
    "def SieveOfEratosthenes(n): \n",
    "    prime = [True for i in range(n+1)] \n",
    "    l = []\n",
    "    p = 2\n",
    "    while(p * p <= n): \n",
    "        if (prime[p] == True): \n",
    "            for i in range(p * p, n + 1, p): \n",
    "                prime[i] = False\n",
    "        p += 1\n",
    "    \n",
    "    s = \"\"\n",
    "    for _ in range(2, n): \n",
    "        if prime[_]: \n",
    "            s+=str(_)\n",
    "    return s"
   ]
  },
  {
   "cell_type": "code",
   "execution_count": 21,
   "metadata": {
    "colab": {
     "base_uri": "https://localhost:8080/",
     "height": 36
    },
    "colab_type": "code",
    "id": "CPppzfwuSypB",
    "outputId": "4fce9b31-23e1-4ded-bff8-5423b4ddd00b"
   },
   "outputs": [
    {
     "data": {
      "application/vnd.google.colaboratory.intrinsic+json": {
       "type": "string"
      },
      "text/plain": [
       "'02192'"
      ]
     },
     "execution_count": 21,
     "metadata": {
      "tags": []
     },
     "output_type": "execute_result"
    }
   ],
   "source": [
    "i = 10000\n",
    "SieveOfEratosthenes(20500)[i:i+5]"
   ]
  },
  {
   "cell_type": "markdown",
   "metadata": {
    "colab_type": "text",
    "id": "9LVH4QrYuOfI"
   },
   "source": [
    "## Lovely Lucky LAMBs\n",
    "\n",
    "\n",
    "Being a henchman isn't all drudgery. Occasionally, when Commander Lambda is feeling generous, she'll hand out Lucky LAMBs (Lambda's All-purpose Money Bucks). Henchmen can use Lucky LAMBs to buy things like a second pair of socks, a pillow for their bunks, or even a third daily meal!\n",
    "\n",
    "However, actually passing out LAMBs isn't easy. Each henchman squad has a strict seniority ranking which must be respected - or else the henchmen will revolt and you'll all get demoted back to minions again! \n",
    "\n",
    "There are 4 key rules which you must follow in order to avoid a revolt:\n",
    "    1. The most junior henchman (with the least seniority) gets exactly 1 LAMB.  (There will always be at least 1 henchman on a team.)\n",
    "    2. A henchman will revolt if the person who ranks immediately above them gets more than double the number of LAMBs they do.\n",
    "    3. A henchman will revolt if the amount of LAMBs given to their next two subordinates combined is more than the number of LAMBs they get.  (Note that the two most junior henchmen won't have two subordinates, so this rule doesn't apply to them.  The 2nd most junior henchman would require at least as many LAMBs as the most junior henchman.)\n",
    "    4. You can always find more henchmen to pay - the Commander has plenty of employees.  If there are enough LAMBs left over such that another henchman could be added as the most senior while obeying the other rules, you must always add and pay that henchman.\n",
    "\n",
    "Note that you may not be able to hand out all the LAMBs. A single LAMB cannot be subdivided. That is, all henchmen must get a positive integer number of LAMBs.\n",
    "\n",
    "Write a function called solution(total_lambs), where total_lambs is the integer number of LAMBs in the handout you are trying to divide. It should return an integer which represents the difference between the minimum and maximum number of henchmen who can share the LAMBs (that is, being as generous as possible to those you pay and as stingy as possible, respectively) while still obeying all of the above rules to avoid a revolt.  For instance, if you had 10 LAMBs and were as generous as possible, you could only pay 3 henchmen (1, 2, and 4 LAMBs, in order of ascending seniority), whereas if you were as stingy as possible, you could pay 4 henchmen (1, 1, 2, and 3 LAMBs). Therefore, solution(10) should return 4-3 = 1.\n",
    "\n",
    "To keep things interesting, Commander Lambda varies the sizes of the Lucky LAMB payouts. You can expect total_lambs to always be a positive integer less than 1 billion (10 ^ 9).\n",
    "\n",
    "# Languages\n",
    "\n",
    "\n",
    "To provide a Python solution, edit solution.py\n",
    "To provide a Java solution, edit Solution.java\n",
    "\n",
    "## Test cases\n",
    "\n",
    "Your code should pass the following test cases.\n",
    "Note that it may also be run against hidden test cases not shown here.\n",
    "\n",
    "-- Python cases --\n",
    "Input:\n",
    "solution.solution(143)\n",
    "Output:\n",
    "    3\n",
    "\n",
    "Input:\n",
    "solution.solution(10)\n",
    "Output:\n",
    "    1\n",
    "\n",
    "-- Java cases --\n",
    "Input:\n",
    "Solution.solution(143)\n",
    "Output:\n",
    "    3\n",
    "\n",
    "Input:\n",
    "Solution.solution(10)\n",
    "Output:\n",
    "    1"
   ]
  },
  {
   "cell_type": "code",
   "execution_count": 22,
   "metadata": {
    "colab": {},
    "colab_type": "code",
    "id": "_HSz_WZDoM0R"
   },
   "outputs": [],
   "source": [
    "def solution(total_lambs):\n",
    "    l = []\n",
    "    x = 0\n",
    "    r = 0\n",
    "    while x <= total_lambs:\n",
    "        c  = 2**x\n",
    "        l.append(c)\n",
    "        r+=c\n",
    "        if r > total_lambs:\n",
    "            break\n",
    "        x+=1\n",
    "        \n",
    "    fib = [1, 1]\n",
    "    f = 2\n",
    "    y = 2\n",
    "        \n",
    "    while y <= total_lambs:\n",
    "        v = fib[y-1] + fib[y-2]\n",
    "        fib.append(v)\n",
    "        f+=int(fib[y])\n",
    "        if f > total_lambs:\n",
    "            break\n",
    "        y+=1\n",
    "        \n",
    "    return len(fib)-len(l)"
   ]
  },
  {
   "cell_type": "code",
   "execution_count": 23,
   "metadata": {
    "colab": {
     "base_uri": "https://localhost:8080/",
     "height": 35
    },
    "colab_type": "code",
    "id": "QfY7nFD7oq4k",
    "outputId": "4f528d39-7f8d-4ba5-8bf7-152ae9fa027c"
   },
   "outputs": [
    {
     "data": {
      "text/plain": [
       "3"
      ]
     },
     "execution_count": 23,
     "metadata": {
      "tags": []
     },
     "output_type": "execute_result"
    }
   ],
   "source": [
    "solution(143)"
   ]
  },
  {
   "cell_type": "markdown",
   "metadata": {
    "colab_type": "text",
    "id": "BarzQBuSSX-Q"
   },
   "source": [
    "## Hey, I Already Did That!\n",
    "\n",
    "\n",
    "Commander Lambda uses an automated algorithm to assign minions randomly to tasks, in order to keep her minions on their toes. But you've noticed a flaw in the algorithm - it eventually loops back on itself, so that instead of assigning new minions as \n",
    "it iterates, it gets stuck in a cycle of values so that the same minions end up doing the same tasks over and over again. You think proving this to Commander Lambda will help you make a case for your next promotion. \n",
    "\n",
    "You have worked out that the algorithm has the following process: \n",
    "\n",
    "1) Start with a random minion ID n, which is a nonnegative integer of length k in base b\n",
    "2) Define x and y as integers of length k.  x has the digits of n in descending order, and y has the digits of n in ascending order\n",
    "3) Define z = x - y.  Add leading zeros to z to maintain length k if necessary\n",
    "4) Assign n = z to get the next minion ID, and go back to step 2\n",
    "\n",
    "For example, given minion ID n = 1211, k = 4, b = 10, then x = 2111, y = 1112 and z = 2111 - 1112 = 0999. Then the next minion ID will be n = 0999 and the algorithm iterates again: x = 9990, y = 0999 and z = 9990 - 0999 = 8991, and so on.\n",
    "\n",
    "Depending on the values of n, k (derived from n), and b, at some point the algorithm reaches a cycle, such as by reaching a constant value. For example, starting with n = 210022, k = 6, b = 3, the algorithm will reach the cycle of values [210111, 122221, 102212] and it will stay in this cycle no matter how many times it continues iterating. Starting with n = 1211, the routine will reach the integer 6174, and since 7641 - 1467 is 6174, it will stay as that value no matter how many times it iterates.\n",
    "\n",
    "Given a minion ID as a string n representing a nonnegative integer of length k in base b, where 2 <= k <= 9 and 2 <= b <= 10, write a function solution(n, b) which returns the length of the ending cycle of the algorithm above starting with n. For instance, in the example above, solution(210022, 3) would return 3, since iterating on 102212 would return to 210111 when done in base 3. If the algorithm reaches a constant, such as 0, then the length is 1.\n",
    "\n",
    "## Languages\n",
    "\n",
    "To provide a Java solution, edit Solution.java\n",
    "To provide a Python solution, edit solution.py\n",
    "\n",
    "## Test cases\n",
    "\n",
    "Your code should pass the following test cases.\n",
    "Note that it may also be run against hidden test cases not shown here.\n",
    "\n",
    "-- Java cases --\n",
    "Input:\n",
    "Solution.solution('210022', 3)\n",
    "Output:\n",
    "    3\n",
    "\n",
    "Input:\n",
    "Solution.solution('1211', 10)\n",
    "Output:\n",
    "    1\n",
    "\n",
    "-- Python cases --\n",
    "Input:\n",
    "solution.solution('1211', 10)\n",
    "Output:\n",
    "    1\n",
    "\n",
    "Input:\n",
    "solution.solution('210022', 3)\n",
    "Output:\n",
    "    3"
   ]
  },
  {
   "cell_type": "code",
   "execution_count": 24,
   "metadata": {
    "colab": {},
    "colab_type": "code",
    "id": "EkijvRSzpZJ5"
   },
   "outputs": [],
   "source": [
    "def decimalToBase(dn, db):\n",
    "    digits = []\n",
    "    while dn > 0:\n",
    "        digits.insert(0, str(dn % db))\n",
    "        dn  = dn // db\n",
    "    return ''.join(digits)\n",
    "\n",
    "def baseToDecimal(bn, cb):\n",
    "  n = 0\n",
    "  for d in str(bn):\n",
    "    n = cb * n + int(d)\n",
    "  return n\n",
    "\n",
    "def getSubtract(x, y, b):\n",
    "  if b==10:\n",
    "    return int(x) - int(y)\n",
    "    \n",
    "  dx=baseToDecimal(x,b)\n",
    "  dy=baseToDecimal(y,b)\n",
    "  dz=dx-dy\n",
    "  return decimalToBase(dz, b)\n",
    "\n",
    "def solution(n, b):\n",
    "    arr=[]\n",
    "    while True:\n",
    "        x = \"\".join(sorted(str(n), reverse=True))\n",
    "        y = \"\".join(sorted(str(n)))\n",
    "        z = getSubtract(x,y,b)\n",
    "\n",
    "        zl = len(str(z))\n",
    "        xl = len(str(x))\n",
    "\n",
    "        # add leading 0's\n",
    "        if (zl) != xl:\n",
    "            z = z * pow(10 ,(xl-zl)) \n",
    "\n",
    "        for index, item in enumerate(arr):\n",
    "          if item == z:\n",
    "            return index + 1\n",
    "\n",
    "        arr = [z] + arr\n",
    "        n = z"
   ]
  },
  {
   "cell_type": "code",
   "execution_count": 25,
   "metadata": {
    "colab": {
     "base_uri": "https://localhost:8080/",
     "height": 35
    },
    "colab_type": "code",
    "id": "zkE6klJ8UJHR",
    "outputId": "d56a1c2f-c098-4ba3-fa58-0ebbc33833a4"
   },
   "outputs": [
    {
     "data": {
      "text/plain": [
       "1"
      ]
     },
     "execution_count": 25,
     "metadata": {
      "tags": []
     },
     "output_type": "execute_result"
    }
   ],
   "source": [
    "solution(1211, 10)"
   ]
  },
  {
   "cell_type": "markdown",
   "metadata": {
    "colab_type": "text",
    "id": "sXWr4v6eqKvX"
   },
   "source": [
    "## Bomb, Baby!\n",
    "\n",
    "You're so close to destroying the LAMBCHOP doomsday device you can taste it! But in order to do so, you need to deploy special self-replicating bombs designed for you by the brightest scientists on Bunny Planet. There are two types: Mach bombs (M) and Facula bombs (F). The bombs, once released into the LAMBCHOP's inner workings, will automatically deploy to all the strategic points you've identified and destroy them at the same time. \n",
    "\n",
    "But there's a few catches. First, the bombs self-replicate via one of two distinct processes: \n",
    "Every Mach bomb retrieves a sync unit from a Facula bomb; for every Mach bomb, a Facula bomb is created;\n",
    "Every Facula bomb spontaneously creates a Mach bomb.\n",
    "\n",
    "For example, if you had 3 Mach bombs and 2 Facula bombs, they could either produce 3 Mach bombs and 5 Facula bombs, or 5 Mach bombs and 2 Facula bombs. The replication process can be changed each cycle. \n",
    "\n",
    "Second, you need to ensure that you have exactly the right number of Mach and Facula bombs to destroy the LAMBCHOP device. Too few, and the device might survive. Too many, and you might overload the mass capacitors and create a singularity at the heart of the space station - not good! \n",
    "\n",
    "And finally, you were only able to smuggle one of each type of bomb - one Mach, one Facula - aboard the ship when you arrived, so that's all you have to start with. (Thus it may be impossible to deploy the bombs to destroy the LAMBCHOP, but that's not going to stop you from trying!) \n",
    "\n",
    "You need to know how many replication cycles (generations) it will take to generate the correct amount of bombs to destroy the LAMBCHOP. Write a function answer(M, F) where M and F are the number of Mach and Facula bombs needed. Return the fewest number of generations (as a string) that need to pass before you'll have the exact number of bombs necessary to destroy the LAMBCHOP, or the string \"impossible\" if this can't be done! M and F will be string representations of positive integers no larger than 10^50. For example, if M = \"2\" and F = \"1\", one generation would need to pass, so the answer would be \"1\". However, if M = \"2\" and F = \"4\", it would not be possible.\n",
    "\n",
    "## Test cases\n",
    "\n",
    "\n",
    "Inputs:\n",
    "    (string) M = \"2\"\n",
    "    (string) F = \"1\"\n",
    "Output:\n",
    "    (string) \"1\"\n",
    "\n",
    "Inputs:\n",
    "    (string) M = \"4\"\n",
    "    (string) F = \"7\"\n",
    "Output:\n",
    "    (string) \"4\""
   ]
  },
  {
   "cell_type": "code",
   "execution_count": 26,
   "metadata": {
    "colab": {},
    "colab_type": "code",
    "id": "MbLGO5IRVAWC"
   },
   "outputs": [],
   "source": [
    "def answer(M, F):\n",
    "    m, f = int(M), int(F)\n",
    "    total = 0\n",
    "    while not (m == 1 and f == 1):\n",
    "        print(\"M:{}, F:{}\".format(m,f))\n",
    "        if f <= 0 or m <= 0:\n",
    "            return \"impossible\"\n",
    "        if f == 1:\n",
    "            return str(total + m - 1)\n",
    "        else:\n",
    "            total += int(m/f)\n",
    "            m, f = f, m % f\n",
    "    return str(total)"
   ]
  },
  {
   "cell_type": "code",
   "execution_count": 27,
   "metadata": {
    "colab": {
     "base_uri": "https://localhost:8080/",
     "height": 106
    },
    "colab_type": "code",
    "id": "Lmo-MG_RqU0v",
    "outputId": "33e635e2-6617-4c18-efb6-05e9ed1b6e08"
   },
   "outputs": [
    {
     "name": "stdout",
     "output_type": "stream",
     "text": [
      "M:4, F:7\n",
      "M:7, F:4\n",
      "M:4, F:3\n",
      "M:3, F:1\n",
      "Answer:4\n"
     ]
    }
   ],
   "source": [
    "print(\"Answer:\" + answer(4,7))"
   ]
  },
  {
   "cell_type": "markdown",
   "metadata": {
    "colab_type": "text",
    "id": "-NLFRchw5iBw"
   },
   "source": [
    "## Prepare the Bunnies' Escape\n",
    "\n",
    "You're awfully close to destroying the LAMBCHOP doomsday device and freeing Commander Lambda's bunny prisoners, but once they're free of the prison blocks, the bunnies are going to need to escape Lambda's space station via the escape pods as quickly as possible. Unfortunately, the halls of the space station are a maze of corridors and dead ends that will be a deathtrap for the escaping bunnies. Fortunately, Commander Lambda has put you in charge of a remodeling project that will give you the opportunity to make things a little easier for the bunnies. Unfortunately (again), you can't just remove all obstacles between the bunnies and the escape pods - at most you can remove one wall per escape pod path, both to maintain structural integrity of the station and to avoid arousing Commander Lambda's suspicions. \n",
    "\n",
    "You have maps of parts of the space station, each starting at a prison exit and ending at the door to an escape pod. The map is represented as a matrix of 0s and 1s, where 0s are passable space and 1s are impassable walls. The door out of the prison is at the top left (0,0) and the door into an escape pod is at the bottom right (w-1,h-1). \n",
    "\n",
    "Write a function solution(map) that generates the length of the shortest path from the prison door to the escape pod, where you are allowed to remove one wall as part of your remodeling plans. The path length is the total number of nodes you pass through, counting both the entrance and exit nodes. The starting and ending positions are always passable (0). The map will always be solvable, though you may or may not need to remove a wall. The height and width of the map can be from 2 to 20. Moves can only be made in cardinal directions; no diagonal moves are allowed.\n",
    "\n",
    "## Languages\n",
    "\n",
    "To provide a Python solution, edit solution.py\n",
    "To provide a Java solution, edit Solution.java\n",
    "\n",
    "## Test cases\n",
    "Your code should pass the following test cases.\n",
    "Note that it may also be run against hidden test cases not shown here.\n",
    "\n",
    "-- Python cases --\n",
    "Input:\n",
    "solution.solution([[0, 1, 1, 0], [0, 0, 0, 1], [1, 1, 0, 0], [1, 1, 1, 0]])\n",
    "Output:\n",
    "    7\n",
    "\n",
    "Input:\n",
    "solution.solution([[0, 0, 0, 0, 0, 0], [1, 1, 1, 1, 1, 0], [0, 0, 0, 0, 0, 0], [0, 1, 1, 1, 1, 1], [0, 1, 1, 1, 1, 1], [0, 0, 0, 0, 0, 0]])\n",
    "Output:\n",
    "    11\n"
   ]
  },
  {
   "cell_type": "code",
   "execution_count": 28,
   "metadata": {
    "colab": {},
    "colab_type": "code",
    "id": "t3K7uWVfqgut"
   },
   "outputs": [],
   "source": [
    "def sht_pth(sx, sy, maze):\n",
    "    w = len(maze[0])\n",
    "    h = len(maze)\n",
    "    board = [[None for i in range(w)] for i in range(h)]\n",
    "    board[sx][sy] = 1\n",
    "\n",
    "    arr = [(sx, sy)]\n",
    "    while arr:\n",
    "        x, y = arr.pop(0)\n",
    "        for i in [[1,0],[-1,0],[0,-1],[0,1]]:\n",
    "          nx, ny = x + i[0], y + i[1]\n",
    "          if 0 <= nx < h and 0 <= ny < w:\n",
    "            if board[nx][ny] is None:\n",
    "                board[nx][ny] = board[x][y] + 1\n",
    "                if maze[nx][ny] == 1 :\n",
    "                  continue\n",
    "                arr.append((nx, ny)) \n",
    "                  \n",
    "    return board\n",
    "\n",
    "def solution(maze):\n",
    "  w = len(maze[0])\n",
    "  h = len(maze)\n",
    "  tb = sht_pth(0, 0, maze)\n",
    "  bt = sht_pth(h-1, w-1, maze)\n",
    "  board = []\n",
    "\n",
    "  ans = 2 ** 32-1\n",
    "  for i in range(h):\n",
    "      for j in range(w):\n",
    "          if tb[i][j] and bt[i][j]:\n",
    "              ans = min(tb[i][j] + bt[i][j] - 1, ans)\n",
    "  return ans"
   ]
  },
  {
   "cell_type": "code",
   "execution_count": 29,
   "metadata": {
    "colab": {
     "base_uri": "https://localhost:8080/",
     "height": 35
    },
    "colab_type": "code",
    "id": "M8uLhMot-rXo",
    "outputId": "7f569fd8-e80f-4eeb-9524-3a398868a02f"
   },
   "outputs": [
    {
     "data": {
      "text/plain": [
       "11"
      ]
     },
     "execution_count": 29,
     "metadata": {
      "tags": []
     },
     "output_type": "execute_result"
    }
   ],
   "source": [
    "solution([[0, 0, 0, 0, 0, 0], [1, 1, 1, 1, 1, 0], [0, 0, 0, 0, 0, 0], [0, 1, 1, 1, 1, 1], [0, 1, 1, 1, 1, 1], [0, 0, 0, 0, 0, 0]])"
   ]
  },
  {
   "cell_type": "markdown",
   "metadata": {
    "colab_type": "text",
    "id": "_9QwtMEE_3gY"
   },
   "source": [
    "## Find the Access Codes\n",
    "\n",
    "In order to destroy Commander Lambda's LAMBCHOP doomsday device, you'll need access to it. But the only door leading to the LAMBCHOP chamber is secured with a unique lock system whose number of passcodes changes daily. Commander Lambda gets a report every day that includes the locks' access codes, but only she knows how to figure out which of several lists contains the access codes. You need to find a way to determine which list contains the access codes once you're ready to go in. \n",
    "\n",
    "Fortunately, now that you're Commander Lambda's personal assistant, she's confided to you that she made all the access codes \"lucky triples\" in order to help her better find them in the lists. A \"lucky triple\" is a tuple (x, y, z) where x divides y and y divides z, such as (1, 2, 4). With that information, you can figure out which list contains the number of access codes that matches the number of locks on the door when you're ready to go in (for example, if there's 5 passcodes, you'd need to find a list with 5 \"lucky triple\" access codes).\n",
    "\n",
    "Write a function solution(l) that takes a list of positive integers l and counts the number of \"lucky triples\" of (li, lj, lk) where the list indices meet the requirement i < j < k.  The length of l is between 2 and 2000 inclusive.  The elements of l are between 1 and 999999 inclusive.  The answer fits within a signed 32-bit integer. Some of the lists are purposely generated without any access codes to throw off spies, so if no triples are found, return 0. \n",
    "\n",
    "For example, [1, 2, 3, 4, 5, 6] has the triples: [1, 2, 4], [1, 2, 6], [1, 3, 6], making the answer 3 total.\n",
    "\n",
    "## Languages\n",
    "\n",
    "To provide a Java solution, edit Solution.java\n",
    "To provide a Python solution, edit solution.py\n",
    "\n",
    "## Test cases\n",
    "Your code should pass the following test cases.\n",
    "Note that it may also be run against hidden test cases not shown here.\n",
    "\n",
    "-- Python cases --\n",
    "Input:\n",
    "solution.solution([1, 2, 3, 4, 5, 6])\n",
    "Output:\n",
    "    3\n",
    "\n",
    "Input:\n",
    "solution.solution([1, 1, 1])\n",
    "Output:\n",
    "    1"
   ]
  },
  {
   "cell_type": "code",
   "execution_count": 30,
   "metadata": {
    "colab": {},
    "colab_type": "code",
    "id": "aOw54-4s-5SO"
   },
   "outputs": [],
   "source": [
    "def solution(l):\n",
    "    cnt = 0\n",
    "    memo = [0] * len(l)\n",
    "    for i in range(len(l) - 1):\n",
    "        for j in range(i + 1, len(l)):\n",
    "            if l[j] % l[i] == 0:\n",
    "                memo[j] += 1\n",
    "                cnt += memo[i]\n",
    "    return cnt"
   ]
  },
  {
   "cell_type": "code",
   "execution_count": 31,
   "metadata": {
    "colab": {
     "base_uri": "https://localhost:8080/",
     "height": 35
    },
    "colab_type": "code",
    "id": "oUHiFmu9_DYD",
    "outputId": "2670a70c-e9d4-40c3-c355-1b025a4f0697"
   },
   "outputs": [
    {
     "data": {
      "text/plain": [
       "3"
      ]
     },
     "execution_count": 31,
     "metadata": {
      "tags": []
     },
     "output_type": "execute_result"
    }
   ],
   "source": [
    "solution([1, 2, 3, 4, 5, 6])"
   ]
  }
 ],
 "metadata": {
  "colab": {
   "collapsed_sections": [],
   "name": "google-fobar.ipynb",
   "provenance": []
  },
  "kernelspec": {
   "display_name": "Python 3",
   "language": "python",
   "name": "python3"
  },
  "language_info": {
   "codemirror_mode": {
    "name": "ipython",
    "version": 3
   },
   "file_extension": ".py",
   "mimetype": "text/x-python",
   "name": "python",
   "nbconvert_exporter": "python",
   "pygments_lexer": "ipython3",
   "version": "3.7.7"
  }
 },
 "nbformat": 4,
 "nbformat_minor": 1
}
